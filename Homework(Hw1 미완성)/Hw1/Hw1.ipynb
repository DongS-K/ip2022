{
 "cells": [
  {
   "cell_type": "code",
   "execution_count": 8,
   "metadata": {},
   "outputs": [
    {
     "ename": "ValueError",
     "evalue": "not enough values to unpack (expected 3, got 0)",
     "output_type": "error",
     "traceback": [
      "\u001b[1;31m---------------------------------------------------------------------------\u001b[0m",
      "\u001b[1;31mValueError\u001b[0m                                Traceback (most recent call last)",
      "\u001b[1;32mc:\\Users\\u303\\ip2022\\Homework\\Hw1\\Hw1.ipynb 셀 1\u001b[0m in \u001b[0;36mdraw_rect\u001b[1;34m(event, x, y, flags, param)\u001b[0m\n\u001b[0;32m     <a href='vscode-notebook-cell:/c%3A/Users/u303/ip2022/Homework/Hw1/Hw1.ipynb#W0sZmlsZQ%3D%3D?line=23'>24</a>\u001b[0m jx,jy \u001b[39m=\u001b[39m x,y\n\u001b[0;32m     <a href='vscode-notebook-cell:/c%3A/Users/u303/ip2022/Homework/Hw1/Hw1.ipynb#W0sZmlsZQ%3D%3D?line=24'>25</a>\u001b[0m box \u001b[39m=\u001b[39m dsp[ix:iy, jx:jy]\n\u001b[1;32m---> <a href='vscode-notebook-cell:/c%3A/Users/u303/ip2022/Homework/Hw1/Hw1.ipynb#W0sZmlsZQ%3D%3D?line=25'>26</a>\u001b[0m b,g,r \u001b[39m=\u001b[39m cv2\u001b[39m.\u001b[39msplit(box)\n\u001b[0;32m     <a href='vscode-notebook-cell:/c%3A/Users/u303/ip2022/Homework/Hw1/Hw1.ipynb#W0sZmlsZQ%3D%3D?line=26'>27</a>\u001b[0m \u001b[39mfor\u001b[39;00m red \u001b[39min\u001b[39;00m r:\n\u001b[0;32m     <a href='vscode-notebook-cell:/c%3A/Users/u303/ip2022/Homework/Hw1/Hw1.ipynb#W0sZmlsZQ%3D%3D?line=27'>28</a>\u001b[0m     red \u001b[39m=\u001b[39m \u001b[39m100\u001b[39m\n",
      "\u001b[1;31mValueError\u001b[0m: not enough values to unpack (expected 3, got 0)"
     ]
    },
    {
     "ename": "ValueError",
     "evalue": "not enough values to unpack (expected 3, got 0)",
     "output_type": "error",
     "traceback": [
      "\u001b[1;31m---------------------------------------------------------------------------\u001b[0m",
      "\u001b[1;31mValueError\u001b[0m                                Traceback (most recent call last)",
      "\u001b[1;32mc:\\Users\\u303\\ip2022\\Homework\\Hw1\\Hw1.ipynb 셀 1\u001b[0m in \u001b[0;36mdraw_rect\u001b[1;34m(event, x, y, flags, param)\u001b[0m\n\u001b[0;32m     <a href='vscode-notebook-cell:/c%3A/Users/u303/ip2022/Homework/Hw1/Hw1.ipynb#W0sZmlsZQ%3D%3D?line=23'>24</a>\u001b[0m jx,jy \u001b[39m=\u001b[39m x,y\n\u001b[0;32m     <a href='vscode-notebook-cell:/c%3A/Users/u303/ip2022/Homework/Hw1/Hw1.ipynb#W0sZmlsZQ%3D%3D?line=24'>25</a>\u001b[0m box \u001b[39m=\u001b[39m dsp[ix:iy, jx:jy]\n\u001b[1;32m---> <a href='vscode-notebook-cell:/c%3A/Users/u303/ip2022/Homework/Hw1/Hw1.ipynb#W0sZmlsZQ%3D%3D?line=25'>26</a>\u001b[0m b,g,r \u001b[39m=\u001b[39m cv2\u001b[39m.\u001b[39msplit(box)\n\u001b[0;32m     <a href='vscode-notebook-cell:/c%3A/Users/u303/ip2022/Homework/Hw1/Hw1.ipynb#W0sZmlsZQ%3D%3D?line=26'>27</a>\u001b[0m \u001b[39mfor\u001b[39;00m red \u001b[39min\u001b[39;00m r:\n\u001b[0;32m     <a href='vscode-notebook-cell:/c%3A/Users/u303/ip2022/Homework/Hw1/Hw1.ipynb#W0sZmlsZQ%3D%3D?line=27'>28</a>\u001b[0m     red \u001b[39m=\u001b[39m \u001b[39m100\u001b[39m\n",
      "\u001b[1;31mValueError\u001b[0m: not enough values to unpack (expected 3, got 0)"
     ]
    },
    {
     "ename": "ValueError",
     "evalue": "not enough values to unpack (expected 3, got 0)",
     "output_type": "error",
     "traceback": [
      "\u001b[1;31m---------------------------------------------------------------------------\u001b[0m",
      "\u001b[1;31mValueError\u001b[0m                                Traceback (most recent call last)",
      "\u001b[1;32mc:\\Users\\u303\\ip2022\\Homework\\Hw1\\Hw1.ipynb 셀 1\u001b[0m in \u001b[0;36mdraw_rect\u001b[1;34m(event, x, y, flags, param)\u001b[0m\n\u001b[0;32m     <a href='vscode-notebook-cell:/c%3A/Users/u303/ip2022/Homework/Hw1/Hw1.ipynb#W0sZmlsZQ%3D%3D?line=23'>24</a>\u001b[0m jx,jy \u001b[39m=\u001b[39m x,y\n\u001b[0;32m     <a href='vscode-notebook-cell:/c%3A/Users/u303/ip2022/Homework/Hw1/Hw1.ipynb#W0sZmlsZQ%3D%3D?line=24'>25</a>\u001b[0m box \u001b[39m=\u001b[39m dsp[ix:iy, jx:jy]\n\u001b[1;32m---> <a href='vscode-notebook-cell:/c%3A/Users/u303/ip2022/Homework/Hw1/Hw1.ipynb#W0sZmlsZQ%3D%3D?line=25'>26</a>\u001b[0m b,g,r \u001b[39m=\u001b[39m cv2\u001b[39m.\u001b[39msplit(box)\n\u001b[0;32m     <a href='vscode-notebook-cell:/c%3A/Users/u303/ip2022/Homework/Hw1/Hw1.ipynb#W0sZmlsZQ%3D%3D?line=26'>27</a>\u001b[0m \u001b[39mfor\u001b[39;00m red \u001b[39min\u001b[39;00m r:\n\u001b[0;32m     <a href='vscode-notebook-cell:/c%3A/Users/u303/ip2022/Homework/Hw1/Hw1.ipynb#W0sZmlsZQ%3D%3D?line=27'>28</a>\u001b[0m     red \u001b[39m=\u001b[39m \u001b[39m100\u001b[39m\n",
      "\u001b[1;31mValueError\u001b[0m: not enough values to unpack (expected 3, got 0)"
     ]
    },
    {
     "ename": "ValueError",
     "evalue": "not enough values to unpack (expected 3, got 0)",
     "output_type": "error",
     "traceback": [
      "\u001b[1;31m---------------------------------------------------------------------------\u001b[0m",
      "\u001b[1;31mValueError\u001b[0m                                Traceback (most recent call last)",
      "\u001b[1;32mc:\\Users\\u303\\ip2022\\Homework\\Hw1\\Hw1.ipynb 셀 1\u001b[0m in \u001b[0;36mdraw_rect\u001b[1;34m(event, x, y, flags, param)\u001b[0m\n\u001b[0;32m     <a href='vscode-notebook-cell:/c%3A/Users/u303/ip2022/Homework/Hw1/Hw1.ipynb#W0sZmlsZQ%3D%3D?line=23'>24</a>\u001b[0m jx,jy \u001b[39m=\u001b[39m x,y\n\u001b[0;32m     <a href='vscode-notebook-cell:/c%3A/Users/u303/ip2022/Homework/Hw1/Hw1.ipynb#W0sZmlsZQ%3D%3D?line=24'>25</a>\u001b[0m box \u001b[39m=\u001b[39m dsp[ix:iy, jx:jy]\n\u001b[1;32m---> <a href='vscode-notebook-cell:/c%3A/Users/u303/ip2022/Homework/Hw1/Hw1.ipynb#W0sZmlsZQ%3D%3D?line=25'>26</a>\u001b[0m b,g,r \u001b[39m=\u001b[39m cv2\u001b[39m.\u001b[39msplit(box)\n\u001b[0;32m     <a href='vscode-notebook-cell:/c%3A/Users/u303/ip2022/Homework/Hw1/Hw1.ipynb#W0sZmlsZQ%3D%3D?line=26'>27</a>\u001b[0m \u001b[39mfor\u001b[39;00m red \u001b[39min\u001b[39;00m r:\n\u001b[0;32m     <a href='vscode-notebook-cell:/c%3A/Users/u303/ip2022/Homework/Hw1/Hw1.ipynb#W0sZmlsZQ%3D%3D?line=27'>28</a>\u001b[0m     red \u001b[39m=\u001b[39m \u001b[39m100\u001b[39m\n",
      "\u001b[1;31mValueError\u001b[0m: not enough values to unpack (expected 3, got 0)"
     ]
    },
    {
     "ename": "ValueError",
     "evalue": "not enough values to unpack (expected 3, got 0)",
     "output_type": "error",
     "traceback": [
      "\u001b[1;31m---------------------------------------------------------------------------\u001b[0m",
      "\u001b[1;31mValueError\u001b[0m                                Traceback (most recent call last)",
      "\u001b[1;32mc:\\Users\\u303\\ip2022\\Homework\\Hw1\\Hw1.ipynb 셀 1\u001b[0m in \u001b[0;36mdraw_rect\u001b[1;34m(event, x, y, flags, param)\u001b[0m\n\u001b[0;32m     <a href='vscode-notebook-cell:/c%3A/Users/u303/ip2022/Homework/Hw1/Hw1.ipynb#W0sZmlsZQ%3D%3D?line=23'>24</a>\u001b[0m jx,jy \u001b[39m=\u001b[39m x,y\n\u001b[0;32m     <a href='vscode-notebook-cell:/c%3A/Users/u303/ip2022/Homework/Hw1/Hw1.ipynb#W0sZmlsZQ%3D%3D?line=24'>25</a>\u001b[0m box \u001b[39m=\u001b[39m dsp[ix:iy, jx:jy]\n\u001b[1;32m---> <a href='vscode-notebook-cell:/c%3A/Users/u303/ip2022/Homework/Hw1/Hw1.ipynb#W0sZmlsZQ%3D%3D?line=25'>26</a>\u001b[0m b,g,r \u001b[39m=\u001b[39m cv2\u001b[39m.\u001b[39msplit(box)\n\u001b[0;32m     <a href='vscode-notebook-cell:/c%3A/Users/u303/ip2022/Homework/Hw1/Hw1.ipynb#W0sZmlsZQ%3D%3D?line=26'>27</a>\u001b[0m \u001b[39mfor\u001b[39;00m red \u001b[39min\u001b[39;00m r:\n\u001b[0;32m     <a href='vscode-notebook-cell:/c%3A/Users/u303/ip2022/Homework/Hw1/Hw1.ipynb#W0sZmlsZQ%3D%3D?line=27'>28</a>\u001b[0m     red \u001b[39m=\u001b[39m \u001b[39m100\u001b[39m\n",
      "\u001b[1;31mValueError\u001b[0m: not enough values to unpack (expected 3, got 0)"
     ]
    },
    {
     "ename": "ValueError",
     "evalue": "not enough values to unpack (expected 3, got 0)",
     "output_type": "error",
     "traceback": [
      "\u001b[1;31m---------------------------------------------------------------------------\u001b[0m",
      "\u001b[1;31mValueError\u001b[0m                                Traceback (most recent call last)",
      "\u001b[1;32mc:\\Users\\u303\\ip2022\\Homework\\Hw1\\Hw1.ipynb 셀 1\u001b[0m in \u001b[0;36mdraw_rect\u001b[1;34m(event, x, y, flags, param)\u001b[0m\n\u001b[0;32m     <a href='vscode-notebook-cell:/c%3A/Users/u303/ip2022/Homework/Hw1/Hw1.ipynb#W0sZmlsZQ%3D%3D?line=23'>24</a>\u001b[0m jx,jy \u001b[39m=\u001b[39m x,y\n\u001b[0;32m     <a href='vscode-notebook-cell:/c%3A/Users/u303/ip2022/Homework/Hw1/Hw1.ipynb#W0sZmlsZQ%3D%3D?line=24'>25</a>\u001b[0m box \u001b[39m=\u001b[39m dsp[ix:iy, jx:jy]\n\u001b[1;32m---> <a href='vscode-notebook-cell:/c%3A/Users/u303/ip2022/Homework/Hw1/Hw1.ipynb#W0sZmlsZQ%3D%3D?line=25'>26</a>\u001b[0m b,g,r \u001b[39m=\u001b[39m cv2\u001b[39m.\u001b[39msplit(box)\n\u001b[0;32m     <a href='vscode-notebook-cell:/c%3A/Users/u303/ip2022/Homework/Hw1/Hw1.ipynb#W0sZmlsZQ%3D%3D?line=26'>27</a>\u001b[0m \u001b[39mfor\u001b[39;00m red \u001b[39min\u001b[39;00m r:\n\u001b[0;32m     <a href='vscode-notebook-cell:/c%3A/Users/u303/ip2022/Homework/Hw1/Hw1.ipynb#W0sZmlsZQ%3D%3D?line=27'>28</a>\u001b[0m     red \u001b[39m=\u001b[39m \u001b[39m100\u001b[39m\n",
      "\u001b[1;31mValueError\u001b[0m: not enough values to unpack (expected 3, got 0)"
     ]
    },
    {
     "ename": "ValueError",
     "evalue": "not enough values to unpack (expected 3, got 0)",
     "output_type": "error",
     "traceback": [
      "\u001b[1;31m---------------------------------------------------------------------------\u001b[0m",
      "\u001b[1;31mValueError\u001b[0m                                Traceback (most recent call last)",
      "\u001b[1;32mc:\\Users\\u303\\ip2022\\Homework\\Hw1\\Hw1.ipynb 셀 1\u001b[0m in \u001b[0;36mdraw_rect\u001b[1;34m(event, x, y, flags, param)\u001b[0m\n\u001b[0;32m     <a href='vscode-notebook-cell:/c%3A/Users/u303/ip2022/Homework/Hw1/Hw1.ipynb#W0sZmlsZQ%3D%3D?line=23'>24</a>\u001b[0m jx,jy \u001b[39m=\u001b[39m x,y\n\u001b[0;32m     <a href='vscode-notebook-cell:/c%3A/Users/u303/ip2022/Homework/Hw1/Hw1.ipynb#W0sZmlsZQ%3D%3D?line=24'>25</a>\u001b[0m box \u001b[39m=\u001b[39m dsp[ix:iy, jx:jy]\n\u001b[1;32m---> <a href='vscode-notebook-cell:/c%3A/Users/u303/ip2022/Homework/Hw1/Hw1.ipynb#W0sZmlsZQ%3D%3D?line=25'>26</a>\u001b[0m b,g,r \u001b[39m=\u001b[39m cv2\u001b[39m.\u001b[39msplit(box)\n\u001b[0;32m     <a href='vscode-notebook-cell:/c%3A/Users/u303/ip2022/Homework/Hw1/Hw1.ipynb#W0sZmlsZQ%3D%3D?line=26'>27</a>\u001b[0m \u001b[39mfor\u001b[39;00m red \u001b[39min\u001b[39;00m r:\n\u001b[0;32m     <a href='vscode-notebook-cell:/c%3A/Users/u303/ip2022/Homework/Hw1/Hw1.ipynb#W0sZmlsZQ%3D%3D?line=27'>28</a>\u001b[0m     red \u001b[39m=\u001b[39m \u001b[39m100\u001b[39m\n",
      "\u001b[1;31mValueError\u001b[0m: not enough values to unpack (expected 3, got 0)"
     ]
    },
    {
     "ename": "ValueError",
     "evalue": "not enough values to unpack (expected 3, got 0)",
     "output_type": "error",
     "traceback": [
      "\u001b[1;31m---------------------------------------------------------------------------\u001b[0m",
      "\u001b[1;31mValueError\u001b[0m                                Traceback (most recent call last)",
      "\u001b[1;32mc:\\Users\\u303\\ip2022\\Homework\\Hw1\\Hw1.ipynb 셀 1\u001b[0m in \u001b[0;36mdraw_rect\u001b[1;34m(event, x, y, flags, param)\u001b[0m\n\u001b[0;32m     <a href='vscode-notebook-cell:/c%3A/Users/u303/ip2022/Homework/Hw1/Hw1.ipynb#W0sZmlsZQ%3D%3D?line=23'>24</a>\u001b[0m jx,jy \u001b[39m=\u001b[39m x,y\n\u001b[0;32m     <a href='vscode-notebook-cell:/c%3A/Users/u303/ip2022/Homework/Hw1/Hw1.ipynb#W0sZmlsZQ%3D%3D?line=24'>25</a>\u001b[0m box \u001b[39m=\u001b[39m dsp[ix:iy, jx:jy]\n\u001b[1;32m---> <a href='vscode-notebook-cell:/c%3A/Users/u303/ip2022/Homework/Hw1/Hw1.ipynb#W0sZmlsZQ%3D%3D?line=25'>26</a>\u001b[0m b,g,r \u001b[39m=\u001b[39m cv2\u001b[39m.\u001b[39msplit(box)\n\u001b[0;32m     <a href='vscode-notebook-cell:/c%3A/Users/u303/ip2022/Homework/Hw1/Hw1.ipynb#W0sZmlsZQ%3D%3D?line=26'>27</a>\u001b[0m \u001b[39mfor\u001b[39;00m red \u001b[39min\u001b[39;00m r:\n\u001b[0;32m     <a href='vscode-notebook-cell:/c%3A/Users/u303/ip2022/Homework/Hw1/Hw1.ipynb#W0sZmlsZQ%3D%3D?line=27'>28</a>\u001b[0m     red \u001b[39m=\u001b[39m \u001b[39m100\u001b[39m\n",
      "\u001b[1;31mValueError\u001b[0m: not enough values to unpack (expected 3, got 0)"
     ]
    },
    {
     "ename": "ValueError",
     "evalue": "not enough values to unpack (expected 3, got 0)",
     "output_type": "error",
     "traceback": [
      "\u001b[1;31m---------------------------------------------------------------------------\u001b[0m",
      "\u001b[1;31mValueError\u001b[0m                                Traceback (most recent call last)",
      "\u001b[1;32mc:\\Users\\u303\\ip2022\\Homework\\Hw1\\Hw1.ipynb 셀 1\u001b[0m in \u001b[0;36mdraw_rect\u001b[1;34m(event, x, y, flags, param)\u001b[0m\n\u001b[0;32m     <a href='vscode-notebook-cell:/c%3A/Users/u303/ip2022/Homework/Hw1/Hw1.ipynb#W0sZmlsZQ%3D%3D?line=23'>24</a>\u001b[0m jx,jy \u001b[39m=\u001b[39m x,y\n\u001b[0;32m     <a href='vscode-notebook-cell:/c%3A/Users/u303/ip2022/Homework/Hw1/Hw1.ipynb#W0sZmlsZQ%3D%3D?line=24'>25</a>\u001b[0m box \u001b[39m=\u001b[39m dsp[ix:iy, jx:jy]\n\u001b[1;32m---> <a href='vscode-notebook-cell:/c%3A/Users/u303/ip2022/Homework/Hw1/Hw1.ipynb#W0sZmlsZQ%3D%3D?line=25'>26</a>\u001b[0m b,g,r \u001b[39m=\u001b[39m cv2\u001b[39m.\u001b[39msplit(box)\n\u001b[0;32m     <a href='vscode-notebook-cell:/c%3A/Users/u303/ip2022/Homework/Hw1/Hw1.ipynb#W0sZmlsZQ%3D%3D?line=26'>27</a>\u001b[0m \u001b[39mfor\u001b[39;00m red \u001b[39min\u001b[39;00m r:\n\u001b[0;32m     <a href='vscode-notebook-cell:/c%3A/Users/u303/ip2022/Homework/Hw1/Hw1.ipynb#W0sZmlsZQ%3D%3D?line=27'>28</a>\u001b[0m     red \u001b[39m=\u001b[39m \u001b[39m100\u001b[39m\n",
      "\u001b[1;31mValueError\u001b[0m: not enough values to unpack (expected 3, got 0)"
     ]
    }
   ],
   "source": [
    "import numpy as np\n",
    "import cv2\n",
    "#마우스 클릭 event 발생시 좌표 저장\n",
    "#마우스 릴리즈 event 발생시 저장한 좌표로부터 릴리즈가 발생한 좌표까지 박스 생성\n",
    "def nothing(x):\n",
    "    pass\n",
    "img = cv2.imread('mountain2.jpg')\n",
    "dsp = img.copy()\n",
    "font = cv2.FONT_HERSHEY_SIMPLEX\n",
    "drawing = False # true if mouse is pressed\n",
    "ix,iy = -1,-1\n",
    "jx,jy = -1,-1\n",
    "alpha = 255\n",
    "dsp = img.copy()\n",
    "\n",
    "def draw_rect(event,x,y,flags,param):\n",
    "    global ix,iy,jx,jy,drawing, alpha\n",
    "    if event == cv2.EVENT_LBUTTONDOWN:\n",
    "        drawing = True\n",
    "        ix,iy = x,y # ix,iy에 마우스 클릭 좌표 저장\n",
    "#    elif event == cv2.EVENT_MOUSEMOVE:\n",
    "#        if drawing == True:\n",
    "#            cv2.rectangle(img,(ix,iy),(x,y),(0,255,0),-1)\n",
    "    elif event == cv2.EVENT_LBUTTONUP:\n",
    "        drawing = False\n",
    "        jx,jy = x,y\n",
    "        box = dsp[ix:iy, jx:jy]\n",
    "        b,g,r = cv2.split(box)\n",
    "        for red in r:\n",
    "            red = 200\n",
    "        box = cv2.merge((b,g,r))\n",
    "        dsp[ix:iy, jx:jy] = box\n",
    "        #cv2.rectangle(img,(ix,iy),(jx,jy),(0,255,0),-1)\n",
    "cv2.namedWindow('image')\n",
    "cv2.createTrackbar('alpha','image',0,100,nothing)\n",
    "cv2.setMouseCallback('image',draw_rect)\n",
    "while(1):\n",
    "    alpha = cv2.getTrackbarPos('alpha','image')\n",
    "    dsp = img.copy()\n",
    "    txt = \"Mouse position \"+str(ix)+\",\"+str(iy)+\" - \"+str(jx)+\",\"+str(jy)\n",
    "    cv2.putText(dsp, txt,(100,100), font, 1,(0,0,0),1,cv2.LINE_AA)\n",
    "    cv2.imshow('image', dsp)\n",
    "    k = cv2.waitKey(1) & 0xFF\n",
    "    if k == 27:\n",
    "        break\n",
    "cv2.destroyAllWindows()"
   ]
  },
  {
   "cell_type": "code",
   "execution_count": 2,
   "metadata": {},
   "outputs": [],
   "source": [
    "#이걸 보고 위의 코드를 완성할 것\n",
    "\n",
    "import cv2\n",
    "import numpy as np\n",
    "drawing = False # true if mouse is pressed\n",
    "mode = True # if True, draw rectangle. Press 'm' to toggle to curve\n",
    "ix,iy = -1,-1\n",
    "# mouse callback function\n",
    "font = cv2.FONT_HERSHEY_SIMPLEX\n",
    "def draw_circle(event,x,y,flags,param):\n",
    "    global ix,iy,drawing,mode\n",
    "    if event == cv2.EVENT_LBUTTONDOWN:\n",
    "        drawing = True\n",
    "        ix,iy = x,y\n",
    "    elif event == cv2.EVENT_MOUSEMOVE:\n",
    "        if drawing == True:\n",
    "            if mode == True:\n",
    "                cv2.rectangle(img,(ix,iy),(x,y),(0,255,0),-1)\n",
    "            else:\n",
    "                cv2.circle(img,(x,y),5,(0,0,255),-1)\n",
    "    elif event == cv2.EVENT_LBUTTONUP:\n",
    "        drawing = False\n",
    "        if mode == True:\n",
    "            cv2.rectangle(img,(ix,iy),(x,y),(0,255,0),-1)\n",
    "        else:\n",
    "            cv2.circle(img,(x,y),5,(0,0,255),-1)\n",
    "img = np.zeros((512,512,3), np.uint8)\n",
    "cv2.namedWindow('image')\n",
    "cv2.setMouseCallback('image',draw_circle)\n",
    "while(1):\n",
    "    dsp = img.copy()\n",
    "    #dsp = img의 경우 dsp가 img의 주소를 가리키게 됨 = 소프트카피\n",
    "    #img.copy()는 dsp에 img의 사본을 새로 할당함 = 하드카피\n",
    "    txt = \"Mouse position \"+str(ix)+\",\"+str(iy)\n",
    "    cv2.putText(dsp, txt,(50,50), font, 1,(255,255,255),1,cv2.LINE_AA)\n",
    "    cv2.imshow('image',dsp)\n",
    "    k = cv2.waitKey(1) & 0xFF\n",
    "    if k == ord('m'):\n",
    "        mode = not mode\n",
    "    elif k == 27:\n",
    "        break\n",
    "cv2.destroyAllWindows()\n"
   ]
  }
 ],
 "metadata": {
  "kernelspec": {
   "display_name": "Python 3.8.13 ('opencv')",
   "language": "python",
   "name": "python3"
  },
  "language_info": {
   "codemirror_mode": {
    "name": "ipython",
    "version": 3
   },
   "file_extension": ".py",
   "mimetype": "text/x-python",
   "name": "python",
   "nbconvert_exporter": "python",
   "pygments_lexer": "ipython3",
   "version": "3.8.13"
  },
  "orig_nbformat": 4,
  "vscode": {
   "interpreter": {
    "hash": "70c39b14bfb6e538cb317f0e96ae0acf92b80db8d2dcfdf1178cc031a8333b4a"
   }
  }
 },
 "nbformat": 4,
 "nbformat_minor": 2
}
