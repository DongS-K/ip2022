{
 "cells": [
  {
   "cell_type": "code",
   "execution_count": 1,
   "metadata": {
    "pycharm": {
     "name": "#%%\n"
    }
   },
   "outputs": [],
   "source": [
    "import numpy as np\n",
    "import cv2\n",
    "def run_main():\n",
    "    cap = cv2.VideoCapture(\"IMG_0010.MOV\")\n",
    "    #cap.set(cv2.cv.CV_CAP_PROP_FRAME_WIDTH, 1280)\n",
    "    #cap.set(cv2.cv.CV_CAP_PROP_FRAME_HEIGHT, 720)\n",
    "\n",
    "    while(True):\n",
    "        ret, frame = cap.read()\n",
    "        if ret:\n",
    "            roi = frame[300:1300,300:1000]\n",
    "            gray = cv2.cvtColor(roi, cv2.COLOR_BGR2GRAY)\n",
    "\n",
    "            gray_blur = cv2.GaussianBlur(gray, (15, 15), 0)\n",
    "            thresh = cv2.adaptiveThreshold(gray_blur, 255, cv2.ADAPTIVE_THRESH_GAUSSIAN_C,\n",
    "                                           cv2.THRESH_BINARY_INV, 11, 2)\n",
    "\n",
    "            kernel = np.ones((3, 3), np.uint8)\n",
    "            closing = cv2.morphologyEx(thresh, cv2.MORPH_CLOSE,\n",
    "            kernel, iterations=20)\n",
    "\n",
    "            cont_img = closing.copy()\n",
    "            contours, hierarchy = cv2.findContours(cont_img, cv2.RETR_EXTERNAL,\n",
    "                                                   cv2.CHAIN_APPROX_SIMPLE)\n",
    "\n",
    "            for cnt in contours:\n",
    "                area = cv2.contourArea(cnt)\n",
    "                #if area < 1000 or area > 4000:\n",
    "                #    continue\n",
    "\n",
    "                if len(cnt) < 20:\n",
    "                    continue\n",
    "\n",
    "                ellipse = cv2.fitEllipse(cnt)\n",
    "                cv2.ellipse(roi, ellipse, (0,255,0), 2)\n",
    "            \n",
    "            cv2.imshow(\"Morphological Closing\", closing)\n",
    "            cv2.imshow(\"Adaptive Thresholding\", thresh)\n",
    "            cv2.imshow('Contours', roi)\n",
    "        else:\n",
    "            break\n",
    "\n",
    "\n",
    "        if cv2.waitKey(1) & 0xFF == ord('q'):\n",
    "            break\n",
    "\n",
    "    cap.release()\n",
    "    cv2.destroyAllWindows()\n",
    "\n",
    "run_main()"
   ]
  }
 ],
 "metadata": {
  "kernelspec": {
   "display_name": "Python 3.10.4 ('algorithm')",
   "language": "python",
   "name": "python3"
  },
  "language_info": {
   "codemirror_mode": {
    "name": "ipython",
    "version": 3
   },
   "file_extension": ".py",
   "mimetype": "text/x-python",
   "name": "python",
   "nbconvert_exporter": "python",
   "pygments_lexer": "ipython3",
   "version": "3.10.4"
  },
  "orig_nbformat": 4,
  "vscode": {
   "interpreter": {
    "hash": "e99791d8907df7246024bb0d29cb8654f5cdf9e6e8a56eb9e4f8aac4fd445d61"
   }
  }
 },
 "nbformat": 4,
 "nbformat_minor": 2
}
