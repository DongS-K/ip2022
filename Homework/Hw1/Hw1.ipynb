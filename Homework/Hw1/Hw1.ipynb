{
 "cells": [
  {
   "cell_type": "code",
   "execution_count": 26,
   "metadata": {},
   "outputs": [],
   "source": [
    "import numpy as np\n",
    "import cv2\n",
    "def nothing(x):\n",
    "    pass\n",
    "img = cv2.imread('[resize]mountain2.jpg')\n",
    "dsp = img.copy()\n",
    "font = cv2.FONT_HERSHEY_SIMPLEX\n",
    "drawing = False # true if mouse is pressed\n",
    "ix,iy = -1,-1\n",
    "jx,jy = -1,-1\n",
    "alpha = 255\n",
    "dsp = img.copy()\n",
    "def draw_rect(event,x,y,flags,param):\n",
    "    global ix,iy,jx,jy,drawing, alpha\n",
    "    if event == cv2.EVENT_LBUTTONDOWN:\n",
    "        drawing = True\n",
    "        ix,iy = x,y # ix,iy에 마우스 클릭 좌표 저장\n",
    "#    elif event == cv2.EVENT_MOUSEMOVE:\n",
    "#        if drawing == True:\n",
    "#            cv2.rectangle(img,(ix,iy),(x,y),(0,255,0),-1)\n",
    "    elif event == cv2.EVENT_LBUTTONUP:\n",
    "        drawing = False\n",
    "        jx,jy = x,y\n",
    "        if ix >= x and iy >= y:\n",
    "            img[y:iy, x:ix, 2] = alpha\n",
    "        elif ix >= x:\n",
    "            img[iy:y, x:ix, 2] = alpha\n",
    "        elif iy >= y:\n",
    "            img[y:iy, ix:x, 2] = alpha\n",
    "        else:\n",
    "            img[iy:y, ix:x, 2] = alpha\n",
    "        \n",
    "        #cv2.rectangle(img,(ix,iy),(jx,jy),(0,255,0),-1)\n",
    "cv2.namedWindow('image')\n",
    "cv2.createTrackbar('alpha','image',0,255,nothing)\n",
    "cv2.setMouseCallback('image',draw_rect)\n",
    "while(1):\n",
    "    alpha = cv2.getTrackbarPos('alpha','image')\n",
    "    dsp = img.copy()\n",
    "    txt = \"Mouse position \"+str(ix)+\",\"+str(iy)+\" - \"+str(jx)+\",\"+str(jy)\n",
    "    cv2.putText(dsp, txt,(30,30), font, 1,(255,255,255),1,cv2.LINE_AA)\n",
    "    cv2.imshow('image', dsp)\n",
    "    k = cv2.waitKey(1) & 0xFF\n",
    "    if k == 27:\n",
    "        break\n",
    "cv2.destroyAllWindows()"
   ]
  }
 ],
 "metadata": {
  "kernelspec": {
   "display_name": "Python 3.8.13 ('opencv')",
   "language": "python",
   "name": "python3"
  },
  "language_info": {
   "codemirror_mode": {
    "name": "ipython",
    "version": 3
   },
   "file_extension": ".py",
   "mimetype": "text/x-python",
   "name": "python",
   "nbconvert_exporter": "python",
   "pygments_lexer": "ipython3",
   "version": "3.8.13"
  },
  "orig_nbformat": 4,
  "vscode": {
   "interpreter": {
    "hash": "70c39b14bfb6e538cb317f0e96ae0acf92b80db8d2dcfdf1178cc031a8333b4a"
   }
  }
 },
 "nbformat": 4,
 "nbformat_minor": 2
}
