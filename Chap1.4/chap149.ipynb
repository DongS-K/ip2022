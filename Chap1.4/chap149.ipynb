{
 "cells": [
  {
   "cell_type": "code",
   "execution_count": 62,
   "metadata": {},
   "outputs": [],
   "source": [
    "import cv2\n",
    "import numpy as np\n",
    "from matplotlib import pyplot as plt\n",
    "im = cv2.imread('static/The-Ankh.jpg')\n",
    "imgray = cv2.cvtColor(im,cv2.COLOR_BGR2GRAY)\n",
    "imgray = cv2.GaussianBlur(imgray,(5,5),0)\n",
    "ret,thresh = cv2.threshold(imgray,245,255,0)\n",
    "\n",
    "kernel = np.ones((5,5),np.uint8)\n",
    "#erosion = cv2.erode(img,kernel,iterations = 1)\n",
    "#dilation = cv2.dilate(img,kernel,iterations = 1)\n",
    "#opening = cv2.morphologyEx(thresh, cv2.MORPH_OPEN, kernel)\n",
    "#closing = cv2.morphologyEx(img, cv2.MORPH_CLOSE, kernel)\n",
    "#thresh = cv2.adaptiveThreshold(imgray, 255, cv2.ADAPTIVE_THRESH_GAUSSIAN_C, cv2.THRESH_BINARY,11,2)\n",
    "contours, hierarchy = cv2.findContours(thresh,cv2.RETR_TREE,cv2.CHAIN_APPROX_SIMPLE)"
   ]
  },
  {
   "cell_type": "code",
   "execution_count": 85,
   "metadata": {},
   "outputs": [
    {
     "name": "stdout",
     "output_type": "stream",
     "text": [
      "{'m00': 1.0, 'm10': 360.5, 'm01': 310.0, 'm20': 129960.33333333333, 'm11': 111754.91666666666, 'm02': 96100.16666666666, 'm30': 46850760.25, 'm21': 40287643.25, 'm12': 34644058.416666664, 'm03': 29791155.0, 'mu20': 0.0833333333284827, 'mu11': -0.08333333334303461, 'mu02': 0.1666666666569654, 'mu30': 7.450580596923828e-09, 'mu21': 1.1437805369496346e-08, 'mu12': 5.980837158858776e-09, 'mu03': 7.450580596923828e-09, 'nu20': 0.0833333333284827, 'nu11': -0.08333333334303461, 'nu02': 0.1666666666569654, 'nu30': 7.450580596923828e-09, 'nu21': 1.1437805369496346e-08, 'nu12': 5.980837158858776e-09, 'nu03': 7.450580596923828e-09}\n"
     ]
    }
   ],
   "source": [
    "img = cv2.imread('static/The-Ankh.jpg')\n",
    "imgray = cv2.cvtColor(img,cv2.COLOR_BGR2GRAY)\n",
    "imgray = cv2.GaussianBlur(imgray,(5,5),0)\n",
    "ret,thresh = cv2.threshold(imgray,245,255,0)\n",
    "#ret,thresh = cv2.threshold(img,127,255,0)\n",
    "contours,hierarchy = cv2.findContours(thresh, 1, 2)\n",
    "cnt = contours[4]\n",
    "M = cv2.moments(cnt)\n",
    "print(M)"
   ]
  },
  {
   "cell_type": "code",
   "execution_count": 86,
   "metadata": {},
   "outputs": [
    {
     "name": "stdout",
     "output_type": "stream",
     "text": [
      "1.0 45.65685415267944\n"
     ]
    }
   ],
   "source": [
    "#중심좌표\n",
    "cx = int(M['m10']/M['m00'])\n",
    "cy = int(M['m01']/M['m00'])\n",
    "area = cv2.contourArea(cnt) # 면적\n",
    "perimeter = cv2.arcLength(cnt,True) # 길이\n",
    "epsilon = 0.1*cv2.arcLength(cnt,True)\n",
    "approx = cv2.approxPolyDP(cnt,epsilon,True)\n",
    "hull = cv2.convexHull(approx)\n",
    "x,y,w,h = cv2.boundingRect(cnt)\n",
    "rect = cv2.minAreaRect(cnt)\n",
    "print(area, perimeter)"
   ]
  },
  {
   "cell_type": "code",
   "execution_count": 87,
   "metadata": {},
   "outputs": [
    {
     "name": "stdout",
     "output_type": "stream",
     "text": [
      "[(0, 2), (1, 2), (2, 2), (3, 2), (4, 10), (5, 2), (6, 152), (7, 507), (8, 4)]\n"
     ]
    }
   ],
   "source": [
    "size = []\n",
    "for i in range(len(contours)):\n",
    "    size.append((i, contours[i].shape[0]))\n",
    "print(size)"
   ]
  },
  {
   "cell_type": "code",
   "execution_count": 88,
   "metadata": {},
   "outputs": [
    {
     "ename": "error",
     "evalue": "OpenCV(4.6.0) :-1: error: (-5:Bad argument) in function 'drawContours'\n> Overload resolution failed:\n>  - image is not a numerical tuple\n>  - Expected Ptr<cv::UMat> for argument 'image'\n",
     "output_type": "error",
     "traceback": [
      "\u001b[1;31m---------------------------------------------------------------------------\u001b[0m",
      "\u001b[1;31merror\u001b[0m                                     Traceback (most recent call last)",
      "\u001b[1;32mc:\\Users\\U301-5\\IP2022\\Chap1.4\\chap149.ipynb 셀 5\u001b[0m in \u001b[0;36m<cell line: 6>\u001b[1;34m()\u001b[0m\n\u001b[0;32m      <a href='vscode-notebook-cell:/c%3A/Users/U301-5/IP2022/Chap1.4/chap149.ipynb#W4sZmlsZQ%3D%3D?line=3'>4</a>\u001b[0m img \u001b[39m=\u001b[39m cv2\u001b[39m.\u001b[39mdrawContours(img, contours, \u001b[39m1\u001b[39m, (\u001b[39m255\u001b[39m,\u001b[39m0\u001b[39m,\u001b[39m0\u001b[39m), \u001b[39m7\u001b[39m)\n\u001b[0;32m      <a href='vscode-notebook-cell:/c%3A/Users/U301-5/IP2022/Chap1.4/chap149.ipynb#W4sZmlsZQ%3D%3D?line=4'>5</a>\u001b[0m img2 \u001b[39m=\u001b[39m cv2\u001b[39m.\u001b[39mdrawContours(img2, contours, \u001b[39m8\u001b[39m, (\u001b[39m255\u001b[39m,\u001b[39m0\u001b[39m,\u001b[39m0\u001b[39m), \u001b[39m3\u001b[39m)\n\u001b[1;32m----> <a href='vscode-notebook-cell:/c%3A/Users/U301-5/IP2022/Chap1.4/chap149.ipynb#W4sZmlsZQ%3D%3D?line=5'>6</a>\u001b[0m imapprox \u001b[39m=\u001b[39m cv2\u001b[39m.\u001b[39;49mdrawContours(contours, approx, \u001b[39m7\u001b[39;49m, (\u001b[39m255\u001b[39;49m,\u001b[39m0\u001b[39;49m,\u001b[39m0\u001b[39;49m), \u001b[39m6\u001b[39;49m)\n\u001b[0;32m      <a href='vscode-notebook-cell:/c%3A/Users/U301-5/IP2022/Chap1.4/chap149.ipynb#W4sZmlsZQ%3D%3D?line=6'>7</a>\u001b[0m plt\u001b[39m.\u001b[39mfigure(figsize\u001b[39m=\u001b[39m(\u001b[39m24\u001b[39m,\u001b[39m8\u001b[39m))\n\u001b[0;32m      <a href='vscode-notebook-cell:/c%3A/Users/U301-5/IP2022/Chap1.4/chap149.ipynb#W4sZmlsZQ%3D%3D?line=7'>8</a>\u001b[0m plt\u001b[39m.\u001b[39msubplot(\u001b[39m2\u001b[39m,\u001b[39m3\u001b[39m,\u001b[39m1\u001b[39m),plt\u001b[39m.\u001b[39mimshow(im,cmap \u001b[39m=\u001b[39m \u001b[39m'\u001b[39m\u001b[39mgray\u001b[39m\u001b[39m'\u001b[39m)\n",
      "\u001b[1;31merror\u001b[0m: OpenCV(4.6.0) :-1: error: (-5:Bad argument) in function 'drawContours'\n> Overload resolution failed:\n>  - image is not a numerical tuple\n>  - Expected Ptr<cv::UMat> for argument 'image'\n"
     ]
    }
   ],
   "source": [
    "img = im.copy()\n",
    "img2 = im.copy()\n",
    "img3 = im.copy()\n",
    "img = cv2.drawContours(img, contours, 1, (255,0,0), 7)\n",
    "img2 = cv2.drawContours(img2, contours, 8, (255,0,0), 3)\n",
    "imapprox = cv2.drawContours(img3, approx, 7, (255,0,0), 6)\n",
    "plt.figure(figsize=(24,8))\n",
    "plt.subplot(2,3,1),plt.imshow(im,cmap = 'gray')\n",
    "plt.title('Original'), plt.xticks([]), plt.yticks([])\n",
    "plt.subplot(2,3,2),plt.imshow(img,cmap = 'gray')\n",
    "plt.title('img'), plt.xticks([]), plt.yticks([])\n",
    "plt.subplot(2,3,3),plt.imshow(img2,cmap = 'gray')\n",
    "plt.title('img2'), plt.xticks([]), plt.yticks([])\n",
    "plt.subplot(2,3,4),plt.imshow(imapprox,cmap = 'gray')\n",
    "plt.title('img3'), plt.xticks([]), plt.yticks([])\n",
    "plt.subplot(2,3,5),plt.imshow(img,cmap = 'gray')\n",
    "plt.title('img4'), plt.xticks([]), plt.yticks([])\n",
    "plt.subplot(2,3,6),plt.imshow(img2,cmap = 'gray')\n",
    "plt.title('img5'), plt.xticks([]), plt.yticks([])"
   ]
  }
 ],
 "metadata": {
  "kernelspec": {
   "display_name": "Python 3.8.13 ('opencv')",
   "language": "python",
   "name": "python3"
  },
  "language_info": {
   "codemirror_mode": {
    "name": "ipython",
    "version": 3
   },
   "file_extension": ".py",
   "mimetype": "text/x-python",
   "name": "python",
   "nbconvert_exporter": "python",
   "pygments_lexer": "ipython3",
   "version": "3.8.13"
  },
  "orig_nbformat": 4,
  "vscode": {
   "interpreter": {
    "hash": "f6e35f0fcfe55231280dbe889f367ec2d4040b1976b0c862eb34161d010bfff5"
   }
  }
 },
 "nbformat": 4,
 "nbformat_minor": 2
}
